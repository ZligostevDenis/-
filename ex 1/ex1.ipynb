{
 "cells": [
  {
   "cell_type": "markdown",
   "metadata": {},
   "source": [
    "# Первый computational notebook"
   ]
  },
  {
   "cell_type": "markdown",
   "metadata": {},
   "source": [
    "## Упражнение: Вычисление числа pi с помощью метода Монте-Карло"
   ]
  },
  {
   "cell_type": "markdown",
   "metadata": {},
   "source": [
    "метода Монте-Карло"
   ]
  },
  {
   "cell_type": "markdown",
   "metadata": {},
   "source": [
    "Каждый пронумерованный элемент будет представлять собой новую ячейку. Нажмите `SHIFT\n",
    "+ENTER`, чтобы запустить ячейку и создать новую ячейку ниже. Выбрав ячейку, нажмите\n",
    "`ESCAPE` для перехода в командный режим. Используйте клавиши `M` и `Y` для изменения ячеек\n",
    "на разметку и код."
   ]
  },
  {
   "cell_type": "markdown",
   "metadata": {},
   "source": [
    "1. Создайте новый блокнот , назовите его и добавьте заголовок (ячейку в формате\n",
    "markdown ниже)."
   ]
  },
  {
   "cell_type": "markdown",
   "metadata": {},
   "source": [
    "# Подсчет  PI с использованием метода Монте-Карло "
   ]
  },
  {
   "cell_type": "markdown",
   "metadata": {},
   "source": [
    "2. Зафиксируйте соответствующие формулы в новой ячейке (ячейке с Markdown):"
   ]
  },
  {
   "cell_type": "markdown",
   "metadata": {},
   "source": [
    "##Формулы\n",
    "\n",
    "- площадь квадрата: $s=(2r)^2$\n",
    "- площадь круга: $c=\\pi r^2$\n",
    "- $c/s = (\\pi r^2) / (4 r^2) = \\pi / 4$\n",
    "- $\\pi = 4*c/s$\n",
    "-\n",
    "-"
   ]
  },
  {
   "cell_type": "markdown",
   "metadata": {},
   "source": [
    "3. Добавьте изображение для пояснения концепции (ячейка markdown):"
   ]
  },
  {
   "cell_type": "markdown",
   "metadata": {},
   "source": [
    "![Дротики](https://avatars.mds.yandex.net/i?id=7d7f378c27bf67f22b82d3227281f238_sr-9068727-images-thumbs&n=13)"
   ]
  },
  {
   "cell_type": "markdown",
   "metadata": {},
   "source": [
    "4. Импортируйте два модуля, которые нам понадобятся (ячейка с кодом):"
   ]
  },
  {
   "cell_type": "code",
   "execution_count": 2,
   "metadata": {},
   "outputs": [
    {
     "name": "stderr",
     "output_type": "stream",
     "text": [
      "Matplotlib is building the font cache; this may take a moment.\n"
     ]
    }
   ],
   "source": [
    "import random\n",
    "import matplotlib.pyplot as plt\n",
    " "
   ]
  },
  {
   "cell_type": "markdown",
   "metadata": {},
   "source": [
    "5. Инициализируйте количество точек (ячейка с кодом):"
   ]
  },
  {
   "cell_type": "code",
   "execution_count": 12,
   "metadata": {},
   "outputs": [],
   "source": [
    "num_points = 204800"
   ]
  },
  {
   "cell_type": "markdown",
   "metadata": {},
   "source": [
    "6. Броски дротиков (ячейка с кодом):"
   ]
  },
  {
   "cell_type": "code",
   "execution_count": 13,
   "metadata": {},
   "outputs": [],
   "source": [
    "points = []\n",
    "hits = 0\n",
    "for _ in range(num_points):\n",
    "    x, y = random.random(), random.random()\n",
    "    if x*x +y*y <1.0:\n",
    "        hits+=1\n",
    "        points.append((x,y, \"red\"))\n",
    "    else:\n",
    "        points.append((x,y,\"blue\"))\n",
    "        \n"
   ]
  },
  {
   "cell_type": "markdown",
   "metadata": {},
   "source": [
    "7. Построение графика результатов (ячейка с кодом):"
   ]
  },
  {
   "cell_type": "code",
   "execution_count": 14,
   "metadata": {},
   "outputs": [
    {
     "data": {
      "text/plain": [
       "3.14287109375"
      ]
     },
     "execution_count": 14,
     "metadata": {},
     "output_type": "execute_result"
    },
    {
     "data": {
      "image/png": "[encoded data removed]",
      "text/plain": [
       "<Figure size 600x600 with 1 Axes>"
      ]
     },
     "metadata": {},
     "output_type": "display_data"
    }
   ],
   "source": [
    "x, y, colors = zip(*points)\n",
    "\n",
    "fig, ax = plt.subplots() \n",
    "fig.set_size_inches(6.0,6.0)\n",
    "\n",
    "ax.scatter(x,y, c=colors)\n",
    "\n",
    "fraction =hits / num_points \n",
    "4 * fraction"
   ]
  },
  {
   "cell_type": "markdown",
   "metadata": {},
   "source": [
    "8. Вычислите оценку для pi (ячейка с кодом):"
   ]
  },
  {
   "cell_type": "markdown",
   "metadata": {},
   "source": [
    "## Блокноты и контроль версий"
   ]
  },
  {
   "cell_type": "markdown",
   "metadata": {},
   "source": [
    "### Работаем с обычным git diff"
   ]
  },
  {
   "cell_type": "markdown",
   "metadata": {},
   "source": [
    "1. Для понимания проблемы можно посмотреть пример блокнота (https://github.com/coderefinery/jupyter/blob/main/example/darts.ipynb), а затем исходный код (https://raw.githubusercontent.com/coderefinery/jupyter/main/example/darts.ipynb) в формате `JSON`.\n",
    "2. Затем мы вносим в пример блокнота простые изменения, например, меняем цвета (заменяем \"красный\" и \"синий\" на что-то другое), а также меняем размеры в `fig.set_size_inches(6.0, 6.0)`\n",
    "3. Запускаем все ячейки.\n",
    "4. Сохраняем изменение (значок сохранения) и в терминале JupyterLab пробуем \"нормальный\" `gitdiff` и видим, что это не очень хорошо сработало. Напишите почему в ячейке с комментарием ниже."
   ]
  },
  {
   "cell_type": "markdown",
   "metadata": {},
   "source": [
    "### Упражнение: что происходит без `requirements.txt`?"
   ]
  },
  {
   "cell_type": "markdown",
   "metadata": {},
   "source": [
    "Рассмотрим тот же репозиторий неравенства действий. (https://github.com/timalthoff/activityinequality)\n",
    "\n",
    "- Запустите репозиторий в Binder (или у себя), используя эту ссылку. (https://mybinder.org/v2/gh/timalthoff/\n",
    "activityinequality/master)\n",
    "- `fig3/fig3bc.ipynb` это блокнот на языке Python, поэтому он работает в Binder. Большинство других - на языке R, который также работает в Binder. Но как? https://mybinder.readthedocs.io/en/latest/howto/languages.html\n",
    "- Попробуйте запустить блокнот. Что произойдет?\n",
    "- Скорее всего, прогон упадёт сразу в первой ячейке:\n",
    "\n",
    "```python\n",
    "%matplotlib inline\n",
    "import pandas as pd\n",
    "import matplotlib.pyplot as plt\n",
    "import seaborn as sns\n",
    "sns.set(style=\"whitegrid\") from\n",
    "itertools import cycle\n",
    "```\n",
    "\n",
    "Мы получаем длинный список сообщений `ModuleNotFoundError`. Это связано с тем, что\n",
    "требуемые Python пакеты не были установлены и не могут быть импортированы. К\n",
    "недостающим пакетам относятся, по крайней мере `pandas` и `matplotlib`.\n",
    "\n",
    "Чтобы установить недостающие зависимости, добавьте в начало блокнота новую ячейку\n",
    "кода с содержанием:\n",
    "\n",
    "```python\n",
    "!python3 -m pip install pandas matplotlib\n",
    "```\n",
    "и запустите блокнот снова. Что произойдет теперь?\n",
    "\n",
    "Запуск опять прерывается из-за отсутствия пакетов! На этот раз виновником является\n",
    "пакет `seaborn`. Изменим первую ячейку так, чтобы она также устанавливалась с помощью:\n",
    "\n",
    "```python\n",
    "!python3 -m pip install pandas matplotlib seaborn\n",
    "```\n",
    "и попробуйте запустить ноутбук в третий раз. Работает ли он теперь? Что можно было\n",
    "бы сделать по-другому со стороны разработчика? Напишите ответ в комментарии.\n",
    "\n",
    "Хороший способ сделать блокнот более удобным для использования - создать файл\n",
    "`requirements.txt` содержащий пакеты, необходимые для работы блокнота, и добавьте его\n",
    "рядом с блокнотом в репозиторий.\n",
    "\n",
    "В нашем случае это может выглядеть следующим образом:\n",
    "\n",
    "```\n",
    "pandas\n",
    "matplotlib\n",
    "seaborn\n",
    "```\n",
    "а чтобы убедиться, что пакеты установлены, можно добавить в начало исходного\n",
    "блокнота ячейку кода со строкой:\n",
    "\n",
    "```python\n",
    "!python3 -m pip install -r requirements.txt\n",
    "```\n",
    "Чтобы быть уверенным в том, что ноутбук будет работать и через несколько месяцев (после\n",
    "обновления зависимостей), необходимо, чтобы в файле `requirements.txt` также была\n",
    "указана та же версия, которую вы использовали при работе. Попробуйте указать в своём\n",
    "блокноте текущую версию ваших зависимостей."
   ]
  },
  {
   "cell_type": "code",
   "execution_count": 19,
   "metadata": {},
   "outputs": [
    {
     "ename": "SyntaxError",
     "evalue": "invalid syntax (3540171181.py, line 5)",
     "output_type": "error",
     "traceback": [
      "\u001b[1;36m  Cell \u001b[1;32mIn[19], line 5\u001b[1;36m\u001b[0m\n\u001b[1;33m    sns.set(style=\"whitegrid\") from\u001b[0m\n\u001b[1;37m                               ^\u001b[0m\n\u001b[1;31mSyntaxError\u001b[0m\u001b[1;31m:\u001b[0m invalid syntax\n"
     ]
    }
   ],
   "source": [
    "%matplotlib inline\n",
    "import pandas as pd\n",
    "import matplotlib.pyplot as plt\n",
    "import seaborn as sns\n",
    "sns.set(style=\"whitegrid\") from\n",
    "itertools import cycle"
   ]
  },
  {
   "cell_type": "code",
   "execution_count": 16,
   "metadata": {},
   "outputs": [
    {
     "name": "stdout",
     "output_type": "stream",
     "text": [
      "Collecting pandas\n",
      "  Downloading pandas-2.2.3-cp312-cp312-win_amd64.whl.metadata (19 kB)\n",
      "Requirement already satisfied: matplotlib in c:\\users\\николай\\appdata\\local\\programs\\python\\python312\\lib\\site-packages (3.9.2)\n",
      "Requirement already satisfied: numpy>=1.26.0 in c:\\users\\николай\\appdata\\local\\programs\\python\\python312\\lib\\site-packages (from pandas) (2.1.2)\n",
      "Requirement already satisfied: python-dateutil>=2.8.2 in c:\\users\\николай\\appdata\\local\\programs\\python\\python312\\lib\\site-packages (from pandas) (2.9.0.post0)\n",
      "Collecting pytz>=2020.1 (from pandas)\n",
      "  Downloading pytz-2024.2-py2.py3-none-any.whl.metadata (22 kB)\n",
      "Collecting tzdata>=2022.7 (from pandas)\n",
      "  Downloading tzdata-2024.2-py2.py3-none-any.whl.metadata (1.4 kB)\n",
      "Requirement already satisfied: contourpy>=1.0.1 in c:\\users\\николай\\appdata\\local\\programs\\python\\python312\\lib\\site-packages (from matplotlib) (1.3.0)\n",
      "Requirement already satisfied: cycler>=0.10 in c:\\users\\николай\\appdata\\local\\programs\\python\\python312\\lib\\site-packages (from matplotlib) (0.12.1)\n",
      "Requirement already satisfied: fonttools>=4.22.0 in c:\\users\\николай\\appdata\\local\\programs\\python\\python312\\lib\\site-packages (from matplotlib) (4.54.1)\n",
      "Requirement already satisfied: kiwisolver>=1.3.1 in c:\\users\\николай\\appdata\\local\\programs\\python\\python312\\lib\\site-packages (from matplotlib) (1.4.7)\n",
      "Requirement already satisfied: packaging>=20.0 in c:\\users\\николай\\appdata\\local\\programs\\python\\python312\\lib\\site-packages (from matplotlib) (24.1)\n",
      "Requirement already satisfied: pillow>=8 in c:\\users\\николай\\appdata\\local\\programs\\python\\python312\\lib\\site-packages (from matplotlib) (11.0.0)\n",
      "Requirement already satisfied: pyparsing>=2.3.1 in c:\\users\\николай\\appdata\\local\\programs\\python\\python312\\lib\\site-packages (from matplotlib) (3.2.0)\n",
      "Requirement already satisfied: six>=1.5 in c:\\users\\николай\\appdata\\local\\programs\\python\\python312\\lib\\site-packages (from python-dateutil>=2.8.2->pandas) (1.16.0)\n",
      "Downloading pandas-2.2.3-cp312-cp312-win_amd64.whl (11.5 MB)\n",
      "   ---------------------------------------- 0.0/11.5 MB ? eta -:--:--\n",
      "   ---------------------------------------- 0.0/11.5 MB ? eta -:--:--\n",
      "   ---------------------------------------- 0.0/11.5 MB ? eta -:--:--\n",
      "   ---------------------------------------- 0.0/11.5 MB ? eta -:--:--\n",
      "   ---------------------------------------- 0.0/11.5 MB ? eta -:--:--\n",
      "   ---------------------------------------- 0.0/11.5 MB ? eta -:--:--\n",
      "   ---------------------------------------- 0.0/11.5 MB ? eta -:--:--\n",
      "   ---------------------------------------- 0.0/11.5 MB ? eta -:--:--\n",
      "   ---------------------------------------- 0.0/11.5 MB ? eta -:--:--\n",
      "   ---------------------------------------- 0.0/11.5 MB ? eta -:--:--\n",
      "   ---------------------------------------- 0.0/11.5 MB ? eta -:--:--\n",
      "   ---------------------------------------- 0.0/11.5 MB ? eta -:--:--\n",
      "   ---------------------------------------- 0.0/11.5 MB ? eta -:--:--\n",
      "   ---------------------------------------- 0.0/11.5 MB ? eta -:--:--\n",
      "   ---------------------------------------- 0.0/11.5 MB ? eta -:--:--\n",
      "   ---------------------------------------- 0.0/11.5 MB ? eta -:--:--\n",
      "    --------------------------------------- 0.3/11.5 MB ? eta -:--:--\n",
      "    --------------------------------------- 0.3/11.5 MB ? eta -:--:--\n",
      "    --------------------------------------- 0.3/11.5 MB ? eta -:--:--\n",
      "    --------------------------------------- 0.3/11.5 MB ? eta -:--:--\n",
      "    --------------------------------------- 0.3/11.5 MB ? eta -:--:--\n",
      "    --------------------------------------- 0.3/11.5 MB ? eta -:--:--\n",
      "    --------------------------------------- 0.3/11.5 MB ? eta -:--:--\n",
      "    --------------------------------------- 0.3/11.5 MB ? eta -:--:--\n",
      "    --------------------------------------- 0.3/11.5 MB ? eta -:--:--\n",
      "    --------------------------------------- 0.3/11.5 MB ? eta -:--:--\n",
      "    --------------------------------------- 0.3/11.5 MB ? eta -:--:--\n",
      "    --------------------------------------- 0.3/11.5 MB ? eta -:--:--\n",
      "    --------------------------------------- 0.3/11.5 MB ? eta -:--:--\n",
      "    --------------------------------------- 0.3/11.5 MB ? eta -:--:--\n",
      "    --------------------------------------- 0.3/11.5 MB ? eta -:--:--\n",
      "    --------------------------------------- 0.3/11.5 MB ? eta -:--:--\n",
      "    --------------------------------------- 0.3/11.5 MB ? eta -:--:--\n",
      "    --------------------------------------- 0.3/11.5 MB ? eta -:--:--\n",
      "    --------------------------------------- 0.3/11.5 MB ? eta -:--:--\n",
      "    --------------------------------------- 0.3/11.5 MB ? eta -:--:--\n",
      "    --------------------------------------- 0.3/11.5 MB ? eta -:--:--\n",
      "    --------------------------------------- 0.3/11.5 MB ? eta -:--:--\n",
      "   - -------------------------------------- 0.5/11.5 MB 55.0 kB/s eta 0:03:20\n",
      "   - -------------------------------------- 0.5/11.5 MB 55.0 kB/s eta 0:03:20\n",
      "   - -------------------------------------- 0.5/11.5 MB 55.0 kB/s eta 0:03:20\n",
      "   - -------------------------------------- 0.5/11.5 MB 55.0 kB/s eta 0:03:20\n",
      "   - -------------------------------------- 0.5/11.5 MB 55.0 kB/s eta 0:03:20\n",
      "   - -------------------------------------- 0.5/11.5 MB 55.0 kB/s eta 0:03:20\n",
      "   - -------------------------------------- 0.5/11.5 MB 55.0 kB/s eta 0:03:20\n",
      "   - -------------------------------------- 0.5/11.5 MB 55.0 kB/s eta 0:03:20\n",
      "   - -------------------------------------- 0.5/11.5 MB 55.0 kB/s eta 0:03:20\n",
      "   - -------------------------------------- 0.5/11.5 MB 55.0 kB/s eta 0:03:20\n",
      "   -- ------------------------------------- 0.8/11.5 MB 76.1 kB/s eta 0:02:21\n",
      "   -- ------------------------------------- 0.8/11.5 MB 76.1 kB/s eta 0:02:21\n",
      "   -- ------------------------------------- 0.8/11.5 MB 76.1 kB/s eta 0:02:21\n",
      "   -- ------------------------------------- 0.8/11.5 MB 76.1 kB/s eta 0:02:21\n",
      "   -- ------------------------------------- 0.8/11.5 MB 76.1 kB/s eta 0:02:21\n",
      "   -- ------------------------------------- 0.8/11.5 MB 76.1 kB/s eta 0:02:21\n",
      "   -- ------------------------------------- 0.8/11.5 MB 76.1 kB/s eta 0:02:21\n",
      "   --- ------------------------------------ 1.0/11.5 MB 95.9 kB/s eta 0:01:50\n",
      "   --- ------------------------------------ 1.0/11.5 MB 95.9 kB/s eta 0:01:50\n",
      "   --- ------------------------------------ 1.0/11.5 MB 95.9 kB/s eta 0:01:50\n",
      "   --- ------------------------------------ 1.0/11.5 MB 95.9 kB/s eta 0:01:50\n",
      "   --- ------------------------------------ 1.0/11.5 MB 95.9 kB/s eta 0:01:50\n",
      "   --- ------------------------------------ 1.0/11.5 MB 95.9 kB/s eta 0:01:50\n",
      "   ---- ----------------------------------- 1.3/11.5 MB 108.8 kB/s eta 0:01:34\n",
      "   ---- ----------------------------------- 1.3/11.5 MB 108.8 kB/s eta 0:01:34\n",
      "   ---- ----------------------------------- 1.3/11.5 MB 108.8 kB/s eta 0:01:34\n",
      "   ---- ----------------------------------- 1.3/11.5 MB 108.8 kB/s eta 0:01:34\n",
      "   ---- ----------------------------------- 1.3/11.5 MB 108.8 kB/s eta 0:01:34\n",
      "   ---- ----------------------------------- 1.3/11.5 MB 108.8 kB/s eta 0:01:34\n",
      "   ----- ---------------------------------- 1.6/11.5 MB 121.0 kB/s eta 0:01:23\n",
      "   ----- ---------------------------------- 1.6/11.5 MB 121.0 kB/s eta 0:01:23\n",
      "   ----- ---------------------------------- 1.6/11.5 MB 121.0 kB/s eta 0:01:23\n",
      "   ----- ---------------------------------- 1.6/11.5 MB 121.0 kB/s eta 0:01:23\n",
      "   ----- ---------------------------------- 1.6/11.5 MB 121.0 kB/s eta 0:01:23\n",
      "   ------ --------------------------------- 1.8/11.5 MB 132.1 kB/s eta 0:01:14\n",
      "   ------ --------------------------------- 1.8/11.5 MB 132.1 kB/s eta 0:01:14\n",
      "   ------ --------------------------------- 1.8/11.5 MB 132.1 kB/s eta 0:01:14\n",
      "   ------ --------------------------------- 1.8/11.5 MB 132.1 kB/s eta 0:01:14\n",
      "   ------- -------------------------------- 2.1/11.5 MB 143.0 kB/s eta 0:01:06\n",
      "   ------- -------------------------------- 2.1/11.5 MB 143.0 kB/s eta 0:01:06\n",
      "   ------- -------------------------------- 2.1/11.5 MB 143.0 kB/s eta 0:01:06\n",
      "   ------- -------------------------------- 2.1/11.5 MB 143.0 kB/s eta 0:01:06\n",
      "   -------- ------------------------------- 2.4/11.5 MB 153.4 kB/s eta 0:01:00\n",
      "   -------- ------------------------------- 2.4/11.5 MB 153.4 kB/s eta 0:01:00\n",
      "   -------- ------------------------------- 2.4/11.5 MB 153.4 kB/s eta 0:01:00\n",
      "   -------- ------------------------------- 2.4/11.5 MB 153.4 kB/s eta 0:01:00\n",
      "   -------- ------------------------------- 2.4/11.5 MB 153.4 kB/s eta 0:01:00\n",
      "   --------- ------------------------------ 2.6/11.5 MB 161.2 kB/s eta 0:00:56\n",
      "   --------- ------------------------------ 2.6/11.5 MB 161.2 kB/s eta 0:00:56\n",
      "   --------- ------------------------------ 2.6/11.5 MB 161.2 kB/s eta 0:00:56\n",
      "   --------- ------------------------------ 2.6/11.5 MB 161.2 kB/s eta 0:00:56\n",
      "   ---------- ----------------------------- 2.9/11.5 MB 167.8 kB/s eta 0:00:52\n",
      "   ---------- ----------------------------- 2.9/11.5 MB 167.8 kB/s eta 0:00:52\n",
      "   ---------- ----------------------------- 2.9/11.5 MB 167.8 kB/s eta 0:00:52\n",
      "   ---------- ----------------------------- 2.9/11.5 MB 167.8 kB/s eta 0:00:52\n",
      "   ---------- ----------------------------- 3.1/11.5 MB 176.4 kB/s eta 0:00:48\n",
      "   ---------- ----------------------------- 3.1/11.5 MB 176.4 kB/s eta 0:00:48\n",
      "   ---------- ----------------------------- 3.1/11.5 MB 176.4 kB/s eta 0:00:48\n",
      "   ----------- ---------------------------- 3.4/11.5 MB 183.7 kB/s eta 0:00:45\n",
      "   ----------- ---------------------------- 3.4/11.5 MB 183.7 kB/s eta 0:00:45\n",
      "   ----------- ---------------------------- 3.4/11.5 MB 183.7 kB/s eta 0:00:45\n",
      "   ----------- ---------------------------- 3.4/11.5 MB 183.7 kB/s eta 0:00:45\n",
      "   ----------- ---------------------------- 3.4/11.5 MB 183.7 kB/s eta 0:00:45\n",
      "   ------------ --------------------------- 3.7/11.5 MB 188.2 kB/s eta 0:00:42\n",
      "   ------------ --------------------------- 3.7/11.5 MB 188.2 kB/s eta 0:00:42\n",
      "   ------------ --------------------------- 3.7/11.5 MB 188.2 kB/s eta 0:00:42\n",
      "   ------------ --------------------------- 3.7/11.5 MB 188.2 kB/s eta 0:00:42\n",
      "   ------------- -------------------------- 3.9/11.5 MB 192.8 kB/s eta 0:00:40\n",
      "   ------------- -------------------------- 3.9/11.5 MB 192.8 kB/s eta 0:00:40\n",
      "   ------------- -------------------------- 3.9/11.5 MB 192.8 kB/s eta 0:00:40\n",
      "   ------------- -------------------------- 3.9/11.5 MB 192.8 kB/s eta 0:00:40\n",
      "   -------------- ------------------------- 4.2/11.5 MB 198.6 kB/s eta 0:00:37\n",
      "   -------------- ------------------------- 4.2/11.5 MB 198.6 kB/s eta 0:00:37\n",
      "   -------------- ------------------------- 4.2/11.5 MB 198.6 kB/s eta 0:00:37\n",
      "   --------------- ------------------------ 4.5/11.5 MB 204.1 kB/s eta 0:00:35\n",
      "   --------------- ------------------------ 4.5/11.5 MB 204.1 kB/s eta 0:00:35\n",
      "   --------------- ------------------------ 4.5/11.5 MB 204.1 kB/s eta 0:00:35\n",
      "   --------------- ------------------------ 4.5/11.5 MB 204.1 kB/s eta 0:00:35\n",
      "   --------------- ------------------------ 4.5/11.5 MB 204.1 kB/s eta 0:00:35\n",
      "   ---------------- ----------------------- 4.7/11.5 MB 206.8 kB/s eta 0:00:33\n",
      "   ---------------- ----------------------- 4.7/11.5 MB 206.8 kB/s eta 0:00:33\n",
      "   ---------------- ----------------------- 4.7/11.5 MB 206.8 kB/s eta 0:00:33\n",
      "   ---------------- ----------------------- 4.7/11.5 MB 206.8 kB/s eta 0:00:33\n",
      "   ---------------- ----------------------- 4.7/11.5 MB 206.8 kB/s eta 0:00:33\n",
      "   ----------------- ---------------------- 5.0/11.5 MB 208.7 kB/s eta 0:00:32\n",
      "   ----------------- ---------------------- 5.0/11.5 MB 208.7 kB/s eta 0:00:32\n",
      "   ----------------- ---------------------- 5.0/11.5 MB 208.7 kB/s eta 0:00:32\n",
      "   ----------------- ---------------------- 5.0/11.5 MB 208.7 kB/s eta 0:00:32\n",
      "   ------------------ --------------------- 5.2/11.5 MB 212.1 kB/s eta 0:00:30\n",
      "   ------------------ --------------------- 5.2/11.5 MB 212.1 kB/s eta 0:00:30\n",
      "   ------------------ --------------------- 5.2/11.5 MB 212.1 kB/s eta 0:00:30\n",
      "   ------------------- -------------------- 5.5/11.5 MB 216.8 kB/s eta 0:00:28\n",
      "   ------------------- -------------------- 5.5/11.5 MB 216.8 kB/s eta 0:00:28\n",
      "   ------------------- -------------------- 5.5/11.5 MB 216.8 kB/s eta 0:00:28\n",
      "   ------------------- -------------------- 5.5/11.5 MB 216.8 kB/s eta 0:00:28\n",
      "   -------------------- ------------------- 5.8/11.5 MB 219.1 kB/s eta 0:00:27\n",
      "   -------------------- ------------------- 5.8/11.5 MB 219.1 kB/s eta 0:00:27\n",
      "   -------------------- ------------------- 5.8/11.5 MB 219.1 kB/s eta 0:00:27\n",
      "   -------------------- ------------------- 5.8/11.5 MB 219.1 kB/s eta 0:00:27\n",
      "   -------------------- ------------------- 5.8/11.5 MB 219.1 kB/s eta 0:00:27\n",
      "   -------------------- ------------------- 6.0/11.5 MB 221.4 kB/s eta 0:00:25\n",
      "   -------------------- ------------------- 6.0/11.5 MB 221.4 kB/s eta 0:00:25\n",
      "   -------------------- ------------------- 6.0/11.5 MB 221.4 kB/s eta 0:00:25\n",
      "   -------------------- ------------------- 6.0/11.5 MB 221.4 kB/s eta 0:00:25\n",
      "   -------------------- ------------------- 6.0/11.5 MB 221.4 kB/s eta 0:00:25\n",
      "   --------------------- ------------------ 6.3/11.5 MB 222.2 kB/s eta 0:00:24\n",
      "   --------------------- ------------------ 6.3/11.5 MB 222.2 kB/s eta 0:00:24\n",
      "   --------------------- ------------------ 6.3/11.5 MB 222.2 kB/s eta 0:00:24\n",
      "   --------------------- ------------------ 6.3/11.5 MB 222.2 kB/s eta 0:00:24\n",
      "   --------------------- ------------------ 6.3/11.5 MB 222.2 kB/s eta 0:00:24\n",
      "   --------------------- ------------------ 6.3/11.5 MB 222.2 kB/s eta 0:00:24\n",
      "   ---------------------- ----------------- 6.6/11.5 MB 220.8 kB/s eta 0:00:23\n",
      "   ---------------------- ----------------- 6.6/11.5 MB 220.8 kB/s eta 0:00:23\n",
      "   ---------------------- ----------------- 6.6/11.5 MB 220.8 kB/s eta 0:00:23\n",
      "   ---------------------- ----------------- 6.6/11.5 MB 220.8 kB/s eta 0:00:23\n",
      "   ---------------------- ----------------- 6.6/11.5 MB 220.8 kB/s eta 0:00:23\n",
      "   ----------------------- ---------------- 6.8/11.5 MB 221.1 kB/s eta 0:00:22\n",
      "   ----------------------- ---------------- 6.8/11.5 MB 221.1 kB/s eta 0:00:22\n",
      "   ----------------------- ---------------- 6.8/11.5 MB 221.1 kB/s eta 0:00:22\n",
      "   ----------------------- ---------------- 6.8/11.5 MB 221.1 kB/s eta 0:00:22\n",
      "   ----------------------- ---------------- 6.8/11.5 MB 221.1 kB/s eta 0:00:22\n",
      "   ----------------------- ---------------- 6.8/11.5 MB 221.1 kB/s eta 0:00:22\n",
      "   ----------------------- ---------------- 6.8/11.5 MB 221.1 kB/s eta 0:00:22\n",
      "   ----------------------- ---------------- 6.8/11.5 MB 221.1 kB/s eta 0:00:22\n",
      "   ------------------------ --------------- 7.1/11.5 MB 247.3 kB/s eta 0:00:18\n",
      "   ------------------------ --------------- 7.1/11.5 MB 247.3 kB/s eta 0:00:18\n",
      "   ------------------------ --------------- 7.1/11.5 MB 247.3 kB/s eta 0:00:18\n",
      "   ------------------------ --------------- 7.1/11.5 MB 247.3 kB/s eta 0:00:18\n",
      "   ------------------------ --------------- 7.1/11.5 MB 247.3 kB/s eta 0:00:18\n",
      "   ------------------------ --------------- 7.1/11.5 MB 247.3 kB/s eta 0:00:18\n",
      "   ------------------------ --------------- 7.1/11.5 MB 247.3 kB/s eta 0:00:18\n",
      "   ------------------------- -------------- 7.3/11.5 MB 243.4 kB/s eta 0:00:18\n",
      "   ------------------------- -------------- 7.3/11.5 MB 243.4 kB/s eta 0:00:18\n",
      "   ------------------------- -------------- 7.3/11.5 MB 243.4 kB/s eta 0:00:18\n",
      "   ------------------------- -------------- 7.3/11.5 MB 243.4 kB/s eta 0:00:18\n",
      "   ------------------------- -------------- 7.3/11.5 MB 243.4 kB/s eta 0:00:18\n",
      "   ------------------------- -------------- 7.3/11.5 MB 243.4 kB/s eta 0:00:18\n",
      "   -------------------------- ------------- 7.6/11.5 MB 241.7 kB/s eta 0:00:17\n",
      "   -------------------------- ------------- 7.6/11.5 MB 241.7 kB/s eta 0:00:17\n",
      "   -------------------------- ------------- 7.6/11.5 MB 241.7 kB/s eta 0:00:17\n",
      "   -------------------------- ------------- 7.6/11.5 MB 241.7 kB/s eta 0:00:17\n",
      "   --------------------------- ------------ 7.9/11.5 MB 251.4 kB/s eta 0:00:15\n",
      "   --------------------------- ------------ 7.9/11.5 MB 251.4 kB/s eta 0:00:15\n",
      "   --------------------------- ------------ 7.9/11.5 MB 251.4 kB/s eta 0:00:15\n",
      "   --------------------------- ------------ 7.9/11.5 MB 251.4 kB/s eta 0:00:15\n",
      "   --------------------------- ------------ 7.9/11.5 MB 251.4 kB/s eta 0:00:15\n",
      "   ---------------------------- ----------- 8.1/11.5 MB 252.3 kB/s eta 0:00:14\n",
      "   ---------------------------- ----------- 8.1/11.5 MB 252.3 kB/s eta 0:00:14\n",
      "   ---------------------------- ----------- 8.1/11.5 MB 252.3 kB/s eta 0:00:14\n",
      "   ---------------------------- ----------- 8.1/11.5 MB 252.3 kB/s eta 0:00:14\n",
      "   ----------------------------- ---------- 8.4/11.5 MB 254.1 kB/s eta 0:00:13\n",
      "   ----------------------------- ---------- 8.4/11.5 MB 254.1 kB/s eta 0:00:13\n",
      "   ----------------------------- ---------- 8.4/11.5 MB 254.1 kB/s eta 0:00:13\n",
      "   ------------------------------ --------- 8.7/11.5 MB 258.7 kB/s eta 0:00:12\n",
      "   ------------------------------ --------- 8.7/11.5 MB 258.7 kB/s eta 0:00:12\n",
      "   ------------------------------ --------- 8.7/11.5 MB 258.7 kB/s eta 0:00:12\n",
      "   ------------------------------ --------- 8.7/11.5 MB 258.7 kB/s eta 0:00:12\n",
      "   ------------------------------ --------- 8.7/11.5 MB 258.7 kB/s eta 0:00:12\n",
      "   ------------------------------ --------- 8.9/11.5 MB 261.6 kB/s eta 0:00:10\n",
      "   ------------------------------ --------- 8.9/11.5 MB 261.6 kB/s eta 0:00:10\n",
      "   ------------------------------ --------- 8.9/11.5 MB 261.6 kB/s eta 0:00:10\n",
      "   ------------------------------ --------- 8.9/11.5 MB 261.6 kB/s eta 0:00:10\n",
      "   ------------------------------ --------- 8.9/11.5 MB 261.6 kB/s eta 0:00:10\n",
      "   ------------------------------ --------- 8.9/11.5 MB 261.6 kB/s eta 0:00:10\n",
      "   ------------------------------ --------- 8.9/11.5 MB 261.6 kB/s eta 0:00:10\n",
      "   ------------------------------ --------- 8.9/11.5 MB 261.6 kB/s eta 0:00:10\n",
      "   ------------------------------- -------- 9.2/11.5 MB 257.4 kB/s eta 0:00:10\n",
      "   ------------------------------- -------- 9.2/11.5 MB 257.4 kB/s eta 0:00:10\n",
      "   -------------------------------- ------- 9.4/11.5 MB 262.1 kB/s eta 0:00:08\n",
      "   -------------------------------- ------- 9.4/11.5 MB 262.1 kB/s eta 0:00:08\n",
      "   -------------------------------- ------- 9.4/11.5 MB 262.1 kB/s eta 0:00:08\n",
      "   -------------------------------- ------- 9.4/11.5 MB 262.1 kB/s eta 0:00:08\n",
      "   -------------------------------- ------- 9.4/11.5 MB 262.1 kB/s eta 0:00:08\n",
      "   -------------------------------- ------- 9.4/11.5 MB 262.1 kB/s eta 0:00:08\n",
      "   -------------------------------- ------- 9.4/11.5 MB 262.1 kB/s eta 0:00:08\n",
      "   --------------------------------- ------ 9.7/11.5 MB 258.8 kB/s eta 0:00:07\n",
      "   --------------------------------- ------ 9.7/11.5 MB 258.8 kB/s eta 0:00:07\n",
      "   --------------------------------- ------ 9.7/11.5 MB 258.8 kB/s eta 0:00:07\n",
      "   --------------------------------- ------ 9.7/11.5 MB 258.8 kB/s eta 0:00:07\n",
      "   --------------------------------- ------ 9.7/11.5 MB 258.8 kB/s eta 0:00:07\n",
      "   --------------------------------- ------ 9.7/11.5 MB 258.8 kB/s eta 0:00:07\n",
      "   --------------------------------- ------ 9.7/11.5 MB 258.8 kB/s eta 0:00:07\n",
      "   ---------------------------------- ----- 10.0/11.5 MB 251.6 kB/s eta 0:00:07\n",
      "   ---------------------------------- ----- 10.0/11.5 MB 251.6 kB/s eta 0:00:07\n",
      "   ---------------------------------- ----- 10.0/11.5 MB 251.6 kB/s eta 0:00:07\n",
      "   ---------------------------------- ----- 10.0/11.5 MB 251.6 kB/s eta 0:00:07\n",
      "   ---------------------------------- ----- 10.0/11.5 MB 251.6 kB/s eta 0:00:07\n",
      "   ---------------------------------- ----- 10.0/11.5 MB 251.6 kB/s eta 0:00:07\n",
      "   ---------------------------------- ----- 10.0/11.5 MB 251.6 kB/s eta 0:00:07\n",
      "   ----------------------------------- ---- 10.2/11.5 MB 248.2 kB/s eta 0:00:06\n",
      "   ----------------------------------- ---- 10.2/11.5 MB 248.2 kB/s eta 0:00:06\n",
      "   ------------------------------------ --- 10.5/11.5 MB 249.2 kB/s eta 0:00:05\n",
      "   ------------------------------------ --- 10.5/11.5 MB 249.2 kB/s eta 0:00:05\n",
      "   ------------------------------------ --- 10.5/11.5 MB 249.2 kB/s eta 0:00:05\n",
      "   ------------------------------------ --- 10.5/11.5 MB 249.2 kB/s eta 0:00:05\n",
      "   ------------------------------------- -- 10.7/11.5 MB 249.9 kB/s eta 0:00:04\n",
      "   ------------------------------------- -- 10.7/11.5 MB 249.9 kB/s eta 0:00:04\n",
      "   ------------------------------------- -- 10.7/11.5 MB 249.9 kB/s eta 0:00:04\n",
      "   -------------------------------------- - 11.0/11.5 MB 252.2 kB/s eta 0:00:02\n",
      "   -------------------------------------- - 11.0/11.5 MB 252.2 kB/s eta 0:00:02\n",
      "   -------------------------------------- - 11.0/11.5 MB 252.2 kB/s eta 0:00:02\n",
      "   -------------------------------------- - 11.0/11.5 MB 252.2 kB/s eta 0:00:02\n",
      "   ---------------------------------------  11.3/11.5 MB 253.5 kB/s eta 0:00:01\n",
      "   ---------------------------------------  11.3/11.5 MB 253.5 kB/s eta 0:00:01\n",
      "   ---------------------------------------  11.3/11.5 MB 253.5 kB/s eta 0:00:01\n",
      "   ---------------------------------------  11.3/11.5 MB 253.5 kB/s eta 0:00:01\n",
      "   ---------------------------------------  11.3/11.5 MB 253.5 kB/s eta 0:00:01\n",
      "   ---------------------------------------- 11.5/11.5 MB 249.4 kB/s eta 0:00:00\n",
      "Downloading pytz-2024.2-py2.py3-none-any.whl (508 kB)\n",
      "Downloading tzdata-2024.2-py2.py3-none-any.whl (346 kB)\n",
      "Installing collected packages: pytz, tzdata, pandas\n",
      "Successfully installed pandas-2.2.3 pytz-2024.2 tzdata-2024.2\n"
     ]
    },
    {
     "name": "stderr",
     "output_type": "stream",
     "text": [
      "\n",
      "[notice] A new release of pip is available: 24.2 -> 24.3.1\n",
      "[notice] To update, run: python.exe -m pip install --upgrade pip\n"
     ]
    }
   ],
   "source": [
    "!python -m pip install pandas matplotlib"
   ]
  },
  {
   "cell_type": "code",
   "execution_count": 20,
   "metadata": {},
   "outputs": [
    {
     "name": "stdout",
     "output_type": "stream",
     "text": [
      "Requirement already satisfied: pandas in c:\\users\\николай\\appdata\\local\\programs\\python\\python312\\lib\\site-packages (2.2.3)\n",
      "Requirement already satisfied: matplotlib in c:\\users\\николай\\appdata\\local\\programs\\python\\python312\\lib\\site-packages (3.9.2)\n",
      "Collecting seaborn\n",
      "  Downloading seaborn-0.13.2-py3-none-any.whl.metadata (5.4 kB)\n",
      "Requirement already satisfied: numpy>=1.26.0 in c:\\users\\николай\\appdata\\local\\programs\\python\\python312\\lib\\site-packages (from pandas) (2.1.2)\n",
      "Requirement already satisfied: python-dateutil>=2.8.2 in c:\\users\\николай\\appdata\\local\\programs\\python\\python312\\lib\\site-packages (from pandas) (2.9.0.post0)\n",
      "Requirement already satisfied: pytz>=2020.1 in c:\\users\\николай\\appdata\\local\\programs\\python\\python312\\lib\\site-packages (from pandas) (2024.2)\n",
      "Requirement already satisfied: tzdata>=2022.7 in c:\\users\\николай\\appdata\\local\\programs\\python\\python312\\lib\\site-packages (from pandas) (2024.2)\n",
      "Requirement already satisfied: contourpy>=1.0.1 in c:\\users\\николай\\appdata\\local\\programs\\python\\python312\\lib\\site-packages (from matplotlib) (1.3.0)\n",
      "Requirement already satisfied: cycler>=0.10 in c:\\users\\николай\\appdata\\local\\programs\\python\\python312\\lib\\site-packages (from matplotlib) (0.12.1)\n",
      "Requirement already satisfied: fonttools>=4.22.0 in c:\\users\\николай\\appdata\\local\\programs\\python\\python312\\lib\\site-packages (from matplotlib) (4.54.1)\n",
      "Requirement already satisfied: kiwisolver>=1.3.1 in c:\\users\\николай\\appdata\\local\\programs\\python\\python312\\lib\\site-packages (from matplotlib) (1.4.7)\n",
      "Requirement already satisfied: packaging>=20.0 in c:\\users\\николай\\appdata\\local\\programs\\python\\python312\\lib\\site-packages (from matplotlib) (24.1)\n",
      "Requirement already satisfied: pillow>=8 in c:\\users\\николай\\appdata\\local\\programs\\python\\python312\\lib\\site-packages (from matplotlib) (11.0.0)\n",
      "Requirement already satisfied: pyparsing>=2.3.1 in c:\\users\\николай\\appdata\\local\\programs\\python\\python312\\lib\\site-packages (from matplotlib) (3.2.0)\n",
      "Requirement already satisfied: six>=1.5 in c:\\users\\николай\\appdata\\local\\programs\\python\\python312\\lib\\site-packages (from python-dateutil>=2.8.2->pandas) (1.16.0)\n",
      "Downloading seaborn-0.13.2-py3-none-any.whl (294 kB)\n",
      "Installing collected packages: seaborn\n",
      "Successfully installed seaborn-0.13.2\n"
     ]
    },
    {
     "name": "stderr",
     "output_type": "stream",
     "text": [
      "\n",
      "[notice] A new release of pip is available: 24.2 -> 24.3.1\n",
      "[notice] To update, run: python.exe -m pip install --upgrade pip\n"
     ]
    }
   ],
   "source": [
    "!python -m pip install pandas matplotlib seaborn"
   ]
  },
  {
   "cell_type": "markdown",
   "metadata": {},
   "source": [
    "### Консольные команды, виджеты оболочки и немного магии (cell magic)"
   ]
  },
  {
   "cell_type": "markdown",
   "metadata": {},
   "source": [
    "Используя блокнот `computing-pi`, потренируйтесь в использовании нескольких полезных\n",
    "команд. Помните, что команды ячейки должны располагаться в первой строке ячейки.\n",
    "\n",
    "1. В ячейке с `for-loop` (там, где `num_points`) добавьте `%%timeit` и запустите ячейку\n",
    "2. В той же ячейке попробуйте запустить `%%prun`\n",
    "3. Попробуйте внести ошибку в код (например, использовать неправильное имя переменной:\n",
    "points.append((`x`, `y2`, `True`))\n",
    "\n",
    "- запустите ячейку\n",
    "- после того как поймайте `exception` запустите `%debug` в новой ячейке и зайдите в\n",
    "интерактивный отладчик\n",
    "- нажмите `h` для того чтобы отобразилось меню помощи и используйте `help <keyword>` для\n",
    "подсказки по ключевому слову\n",
    "- наберите `p` `x` для того, чтобы вывести значение `x`\n",
    "- выйдите из отладчика нажав `q`\n",
    "\n",
    "Посмотрите на вывод команды `%lsmagic`. Используйте кнопки с одним и двумя знаками вопроса,\n",
    "чтобы посмотреть справку."
   ]
  },
  {
   "cell_type": "markdown",
   "metadata": {},
   "source": [
    "### Давайте попробуем виджеты"
   ]
  },
  {
   "cell_type": "markdown",
   "metadata": {},
   "source": [
    "Виджеты могут использоваться для интерактивного изучения или анализа данных.\n",
    "\n",
    "1. Вернемся к примеру с аппроксимацией pi и создадим новую ячейку, в которой\n",
    "повторим написанный ранее код, но на этот раз поместим его в функции. Это \"скрывает\" детали и\n",
    "чувствительные данные, а также позволяет повторно использовать функции позже или в других\n",
    "блокнотах:\n",
    "\n",
    "```python\n",
    "from matplotlib import pyplot\n",
    "import random\n",
    "from ipywidgets import interact, widgets\n",
    "\n",
    "%matplotlib inline\n",
    "\n",
    "\n",
    "def throw_darts(num_points):\n",
    "    points = []\n",
    "    hits = 0\n",
    "    for _ in range(num_points):\n",
    "        x, y = random.random(), random.random()\n",
    "        if x*x + y*y < 1.0:\n",
    "            hits += 1\n",
    "            points.append((x, y, True))\n",
    "        else:\n",
    "            points.append((x, y, False))\n",
    "    fraction = hits / num_points\n",
    "    pi = 4 * fraction\n",
    "    return pi, points\n",
    "\n",
    "\n",
    "def create_plot(points):\n",
    "    x, y, colors = zip(*points)\n",
    "    pyplot.scatter(x, y, c=colors)\n",
    "\n",
    "\n",
    "def experiment(num_points):\n",
    "    pi, points = throw_darts(num_points)\n",
    "    create_plot(points)\n",
    "    print(\"approximation:\", pi)\n",
    "\n",
    "```\n",
    "\n",
    "2. Попробуйте поэкспериментировать с функцией `experiment`. Например, можно попробовать\n",
    "поставить `num_points = 2000`\n",
    "3. Добавьте ячейку, в которой мы сделаем возможным интерактивное изменение\n",
    "количества точек:\n",
    "\n",
    "```python\n",
    "interact(experiment, num_points=widgets.IntSlider(min=100, max=10000, step=100,\n",
    "value=1000))\n",
    "```\n",
    "\n",
    "> Если вы столкнулись с проблемой `Error displaying widget: model not found` то, возможно, потребуется обновить страницу.\n",
    ">\n",
    "\n",
    "4. Перетащите ползунок вперед-назад и понаблюдайте за результатами.\n",
    "5. Можете ли вы назвать другие интересные варианты использования виджетов? Напишите ответ в комментарии"
   ]
  },
  {
   "cell_type": "markdown",
   "metadata": {},
   "source": [
    "### Виджеты для интерактивной подгонки данных (data fitting)"
   ]
  },
  {
   "cell_type": "markdown",
   "metadata": {},
   "source": [
    "Виджеты - это довольно интересны инструмент сам по себе, но они также могут быть и\n",
    "полезными. Ниже пример, показывающий, как можно в интерактивном режиме подгонять\n",
    "шумные данные (noisy data).\n",
    "\n",
    "1. Выполните приведенную ниже ячейку. Она подгоняет полином 5-го порядка к гауссовой\n",
    "функции с некоторым случайным шумом\n",
    "2. Используйте декоратор @interact вокруг двух последних строк кода, чтобы можно было\n",
    "визуализировать подгонки с полиномиальными порядками в диапазоне, скажем, от 3 до 30:\n",
    "\n",
    "```python\n",
    "import numpy as np\n",
    "\n",
    "import matplotlib.pyplot as plt\n",
    "%matplotlib inline\n",
    "\n",
    "\n",
    "def gaussian(x, a, b, c):\n",
    "    return a * np.exp(-b * (x-c)**2)\n",
    "\n",
    "\n",
    "def noisy_gaussian():\n",
    "    # gaussian array y in interval -5 <= x <= 5\n",
    "    nx = 100\n",
    "    x = np.linspace(-5.0, 5.0, nx)\n",
    "    y = gaussian(x, a=2.0, b=0.5, c=1.5)\n",
    "    noise = np.random.normal(0.0, 0.2, nx)\n",
    "    y += noise\n",
    "    return x, y\n",
    "\n",
    "\n",
    "def fit(x, y, n):\n",
    "    pfit = np.polyfit(x, y, n)\n",
    "    yfit = np.polyval(pfit, x)\n",
    "    return yfit\n",
    "\n",
    "\n",
    "def plot(x, y, yfit):\n",
    "    plt.plot(x, y, \"r\", label=\"Data\")\n",
    "    plt.plot(x, yfit, \"b\", label=\"Fit\")\n",
    "    plt.legend()\n",
    "    plt.ylim(-0.5, 2.5)\n",
    "    plt.show()\n",
    "\n",
    "\n",
    "x, y = noisy_gaussian()\n",
    "yfit = fit(x, y, n=5)  # fit a 5th order polynomial to it\n",
    "plot(x, y, yfit)\n",
    "\n",
    "```\n"
   ]
  },
  {
   "cell_type": "markdown",
   "metadata": {},
   "source": [
    "### Профилирование ячеек"
   ]
  },
  {
   "cell_type": "markdown",
   "metadata": {},
   "source": [
    "Это упражнение посвящено профилированию ячеек, но ещё и включает в себя практику\n",
    "работы с магией (cell magic) и ячейками.\n",
    "\n",
    "1. Скопируйте и вставьте в ячейку следующий код:\n",
    "\n",
    "```python\n",
    "import numpy as np\n",
    "import matplotlib.pyplot as plt\n",
    "\n",
    "\n",
    "def step():\n",
    "    import random\n",
    "    return 1. if random.random() > .5 else -1.\n",
    "\n",
    "\n",
    "def walk(n):\n",
    "    x = np.zeros(n)\n",
    "    dx = 1. / n\n",
    "    for i in range(n - 1):\n",
    "        x_new = x[i] + dx * step()\n",
    "        if x_new > 5e-3:\n",
    "            x[i + 1] = 0.\n",
    "        else:\n",
    "            x[i + 1] = x_new\n",
    "    return x\n",
    "\n",
    "\n",
    "n = 100000\n",
    "x = walk(n)\n",
    "\n",
    "```\n",
    "\n",
    "2. Разделите функции на 4 ячейки (либо через меню `Edit`, либо с помощью сочетания клавиш\n",
    "`Ctrl-Shift-Minus`)\n",
    "3. Постройте траекторию случайного движения с помощью `plt.plot(x)`\n",
    "4. Засеките выполнение `walk()` с помощью `%timeit`. Например `t1 = %timeit -o walk(n)`\n",
    "5. Запустите профилировщик ячеек обрезки: `%%prun` и `walk(n)`\n",
    "6. Можете ли вы заметить небольшую ошибку, которая замедляет работу кода?\n",
    "7. В следующем упражнении вы установите линейный профилировщик, который\n",
    "позволит легче выявить ошибку в производительности."
   ]
  },
  {
   "cell_type": "markdown",
   "metadata": {},
   "source": [
    "### Установка команды для профилирования строк"
   ]
  },
  {
   "cell_type": "markdown",
   "metadata": {},
   "source": [
    "\"Магические команды\" (cell magic) могут быть установлены с помощью `pip` и загружаются как плагины\n",
    "с помощью `%load_ext`. Давайте теперь установим линейный профайлер, чтобы получить более\n",
    "подробный отчёт и, надеюсь, найти понимание, как ускорить код из предыдущего упражнения.\n",
    "\n",
    "Если вы не решили предыдущее упражнение, скопируйте и вставьте в ячейку\n",
    "следующий код и выполните его:\n",
    "\n",
    "```python\n",
    "import numpy as np\n",
    "import matplotlib.pyplot as plt\n",
    "\n",
    "\n",
    "def step():\n",
    "    import random\n",
    "    return 1. if random.random() > .5 else -1.\n",
    "\n",
    "\n",
    "def walk(n):\n",
    "    x = np.zeros(n)\n",
    "    dx = 1. / n\n",
    "    for i in range(n - 1):\n",
    "        x_new = x[i] + dx * step()\n",
    "        if x_new > 5e-3:\n",
    "            x[i + 1] = 0.\n",
    "        else:\n",
    "            x[i + 1] = x_new\n",
    "    return x\n",
    "\n",
    "\n",
    "n = 100000\n",
    "x = walk(n)\n",
    "\n",
    "```\n",
    "\n",
    "2. Затем установите профилировщик строк с помощью `!pip install line_profiler`.\n",
    "3. Далее загрузите его с помощью `%load_ext line_profiler`. Посмотрите на новую магическую команду, которая была включена с помощью `%lprun`?\n",
    "5. В новой ячейке запустите профилировщик строк для функций walk и step. Его можно поставить таким же образом, как это описано на странице с помощью\n",
    "6. Посмотрите полученный результат. Можно ли теперь более наглядно увидеть ошибку? Если да, то опишите в комментарии к книге где находится ошибка"
   ]
  },
  {
   "cell_type": "markdown",
   "metadata": {},
   "source": [
    "**Решение:**\n",
    "\n",
    "Скопируйте код в ячейку\n",
    "\n",
    "```\n",
    "!pip install line_profiler\n",
    "```\n",
    "\n",
    "Загрузите расширение `lPython`\n",
    "\n",
    "```\n",
    "%load_ext line_profiler\n",
    "```\n",
    "\n",
    "Посмотрите текст справки\n",
    "\n",
    "```\n",
    "%lprun?\n",
    "```\n",
    "\n",
    "Используйте профилировщик строк на функции walk:\n",
    "\n",
    "```\n",
    "%lprun -f walk walk(10000)\n",
    "```\n",
    "\n",
    "Большинство времени было потрачено на вызов `step()`, значит запустим профайлер на `step`\n",
    "\n",
    "```\n",
    "%lprun -f step walk(10000)\n",
    "```\n",
    "\n",
    "```\n",
    "...\n",
    "     8                                           def step():\n",
    "     9      9999       7488.0      0.7     52.3      import random\n",
    "    10      9999       6840.0      0.7     47.7      return 1. if random.random()\n",
    "...\n",
    "```\n",
    "\n",
    "Больше всего времени тратится на импорт модуля `random` в функции `step`, тысячи\n",
    "вызовов звучат не очень оптимально. Как можно решить эту проблему? Ответ нужно\n",
    "написать в ячейке с комментариями."
   ]
  },
  {
   "cell_type": "markdown",
   "metadata": {},
   "source": [
    "-Type Markdown and LaTeX: $a^2$ "
   ]
  },
  {
   "cell_type": "code",
   "execution_count": 23,
   "metadata": {},
   "outputs": [
    {
     "name": "stdout",
     "output_type": "stream",
     "text": [
      "Collecting ipywidgets\n",
      "  Downloading ipywidgets-8.1.5-py3-none-any.whl.metadata (2.3 kB)\n",
      "Requirement already satisfied: comm>=0.1.3 in c:\\users\\николай\\appdata\\local\\programs\\python\\python312\\lib\\site-packages (from ipywidgets) (0.2.2)\n",
      "Requirement already satisfied: ipython>=6.1.0 in c:\\users\\николай\\appdata\\local\\programs\\python\\python312\\lib\\site-packages (from ipywidgets) (8.29.0)\n",
      "Requirement already satisfied: traitlets>=4.3.1 in c:\\users\\николай\\appdata\\local\\programs\\python\\python312\\lib\\site-packages (from ipywidgets) (5.14.3)\n",
      "Collecting widgetsnbextension~=4.0.12 (from ipywidgets)\n",
      "  Downloading widgetsnbextension-4.0.13-py3-none-any.whl.metadata (1.6 kB)\n",
      "Collecting jupyterlab-widgets~=3.0.12 (from ipywidgets)\n",
      "  Downloading jupyterlab_widgets-3.0.13-py3-none-any.whl.metadata (4.1 kB)\n",
      "Requirement already satisfied: decorator in c:\\users\\николай\\appdata\\local\\programs\\python\\python312\\lib\\site-packages (from ipython>=6.1.0->ipywidgets) (5.1.1)\n",
      "Requirement already satisfied: jedi>=0.16 in c:\\users\\николай\\appdata\\local\\programs\\python\\python312\\lib\\site-packages (from ipython>=6.1.0->ipywidgets) (0.19.1)\n",
      "Requirement already satisfied: matplotlib-inline in c:\\users\\николай\\appdata\\local\\programs\\python\\python312\\lib\\site-packages (from ipython>=6.1.0->ipywidgets) (0.1.7)\n",
      "Requirement already satisfied: prompt-toolkit<3.1.0,>=3.0.41 in c:\\users\\николай\\appdata\\local\\programs\\python\\python312\\lib\\site-packages (from ipython>=6.1.0->ipywidgets) (3.0.48)\n",
      "Requirement already satisfied: pygments>=2.4.0 in c:\\users\\николай\\appdata\\local\\programs\\python\\python312\\lib\\site-packages (from ipython>=6.1.0->ipywidgets) (2.18.0)\n",
      "Requirement already satisfied: stack-data in c:\\users\\николай\\appdata\\local\\programs\\python\\python312\\lib\\site-packages (from ipython>=6.1.0->ipywidgets) (0.6.3)\n",
      "Requirement already satisfied: colorama in c:\\users\\николай\\appdata\\local\\programs\\python\\python312\\lib\\site-packages (from ipython>=6.1.0->ipywidgets) (0.4.6)\n",
      "Requirement already satisfied: parso<0.9.0,>=0.8.3 in c:\\users\\николай\\appdata\\local\\programs\\python\\python312\\lib\\site-packages (from jedi>=0.16->ipython>=6.1.0->ipywidgets) (0.8.4)\n",
      "Requirement already satisfied: wcwidth in c:\\users\\николай\\appdata\\local\\programs\\python\\python312\\lib\\site-packages (from prompt-toolkit<3.1.0,>=3.0.41->ipython>=6.1.0->ipywidgets) (0.2.13)\n",
      "Requirement already satisfied: executing>=1.2.0 in c:\\users\\николай\\appdata\\local\\programs\\python\\python312\\lib\\site-packages (from stack-data->ipython>=6.1.0->ipywidgets) (2.1.0)\n",
      "Requirement already satisfied: asttokens>=2.1.0 in c:\\users\\николай\\appdata\\local\\programs\\python\\python312\\lib\\site-packages (from stack-data->ipython>=6.1.0->ipywidgets) (2.4.1)\n",
      "Requirement already satisfied: pure-eval in c:\\users\\николай\\appdata\\local\\programs\\python\\python312\\lib\\site-packages (from stack-data->ipython>=6.1.0->ipywidgets) (0.2.3)\n",
      "Requirement already satisfied: six>=1.12.0 in c:\\users\\николай\\appdata\\local\\programs\\python\\python312\\lib\\site-packages (from asttokens>=2.1.0->stack-data->ipython>=6.1.0->ipywidgets) (1.16.0)\n",
      "Downloading ipywidgets-8.1.5-py3-none-any.whl (139 kB)\n",
      "Downloading jupyterlab_widgets-3.0.13-py3-none-any.whl (214 kB)\n",
      "Downloading widgetsnbextension-4.0.13-py3-none-any.whl (2.3 MB)\n",
      "   ---------------------------------------- 0.0/2.3 MB ? eta -:--:--\n",
      "   ---- ----------------------------------- 0.3/2.3 MB ? eta -:--:--\n",
      "   ---- ----------------------------------- 0.3/2.3 MB ? eta -:--:--\n",
      "   ---- ----------------------------------- 0.3/2.3 MB ? eta -:--:--\n",
      "   ------------- -------------------------- 0.8/2.3 MB 817.9 kB/s eta 0:00:02\n",
      "   ------------- -------------------------- 0.8/2.3 MB 817.9 kB/s eta 0:00:02\n",
      "   ----------------- ---------------------- 1.0/2.3 MB 811.6 kB/s eta 0:00:02\n",
      "   ---------------------- ----------------- 1.3/2.3 MB 849.7 kB/s eta 0:00:02\n",
      "   -------------------------- ------------- 1.6/2.3 MB 892.3 kB/s eta 0:00:01\n",
      "   -------------------------- ------------- 1.6/2.3 MB 892.3 kB/s eta 0:00:01\n",
      "   ------------------------------- -------- 1.8/2.3 MB 907.1 kB/s eta 0:00:01\n",
      "   ----------------------------------- ---- 2.1/2.3 MB 939.6 kB/s eta 0:00:01\n",
      "   ---------------------------------------- 2.3/2.3 MB 884.7 kB/s eta 0:00:00\n",
      "Installing collected packages: widgetsnbextension, jupyterlab-widgets, ipywidgets\n",
      "Successfully installed ipywidgets-8.1.5 jupyterlab-widgets-3.0.13 widgetsnbextension-4.0.13\n"
     ]
    },
    {
     "name": "stderr",
     "output_type": "stream",
     "text": [
      "\n",
      "[notice] A new release of pip is available: 24.2 -> 24.3.1\n",
      "[notice] To update, run: python.exe -m pip install --upgrade pip\n"
     ]
    }
   ],
   "source": [
    "!python -m pip install ipywidgets"
   ]
  },
  {
   "cell_type": "code",
   "execution_count": 24,
   "metadata": {},
   "outputs": [
    {
     "ename": "RuntimeError",
     "evalue": "'online is not a recognised GUI loop or backend name",
     "output_type": "error",
     "traceback": [
      "\u001b[1;31m---------------------------------------------------------------------------\u001b[0m",
      "\u001b[1;31mRuntimeError\u001b[0m                              Traceback (most recent call last)",
      "File \u001b[1;32mc:\\Users\\Николай\\AppData\\Local\\Programs\\Python\\Python312\\Lib\\site-packages\\matplotlib\\backends\\registry.py:413\u001b[0m, in \u001b[0;36mBackendRegistry.resolve_gui_or_backend\u001b[1;34m(self, gui_or_backend)\u001b[0m\n\u001b[0;32m    412\u001b[0m \u001b[38;5;28;01mtry\u001b[39;00m:\n\u001b[1;32m--> 413\u001b[0m     \u001b[38;5;28;01mreturn\u001b[39;00m \u001b[38;5;28;43mself\u001b[39;49m\u001b[38;5;241;43m.\u001b[39;49m\u001b[43mresolve_backend\u001b[49m\u001b[43m(\u001b[49m\u001b[43mgui_or_backend\u001b[49m\u001b[43m)\u001b[49m\n\u001b[0;32m    414\u001b[0m \u001b[38;5;28;01mexcept\u001b[39;00m \u001b[38;5;167;01mException\u001b[39;00m:  \u001b[38;5;66;03m# KeyError ?\u001b[39;00m\n",
      "File \u001b[1;32mc:\\Users\\Николай\\AppData\\Local\\Programs\\Python\\Python312\\Lib\\site-packages\\matplotlib\\backends\\registry.py:375\u001b[0m, in \u001b[0;36mBackendRegistry.resolve_backend\u001b[1;34m(self, backend)\u001b[0m\n\u001b[0;32m    374\u001b[0m \u001b[38;5;28;01mif\u001b[39;00m gui \u001b[38;5;129;01mis\u001b[39;00m \u001b[38;5;28;01mNone\u001b[39;00m:\n\u001b[1;32m--> 375\u001b[0m     \u001b[38;5;28;01mraise\u001b[39;00m \u001b[38;5;167;01mRuntimeError\u001b[39;00m(\u001b[38;5;124mf\u001b[39m\u001b[38;5;124m\"\u001b[39m\u001b[38;5;124m'\u001b[39m\u001b[38;5;132;01m{\u001b[39;00mbackend\u001b[38;5;132;01m}\u001b[39;00m\u001b[38;5;124m'\u001b[39m\u001b[38;5;124m is not a recognised backend name\u001b[39m\u001b[38;5;124m\"\u001b[39m)\n\u001b[0;32m    377\u001b[0m \u001b[38;5;28;01mreturn\u001b[39;00m backend, gui \u001b[38;5;28;01mif\u001b[39;00m gui \u001b[38;5;241m!=\u001b[39m \u001b[38;5;124m\"\u001b[39m\u001b[38;5;124mheadless\u001b[39m\u001b[38;5;124m\"\u001b[39m \u001b[38;5;28;01melse\u001b[39;00m \u001b[38;5;28;01mNone\u001b[39;00m\n",
      "\u001b[1;31mRuntimeError\u001b[0m: 'online' is not a recognised backend name",
      "\nDuring handling of the above exception, another exception occurred:\n",
      "\u001b[1;31mRuntimeError\u001b[0m                              Traceback (most recent call last)",
      "Cell \u001b[1;32mIn[24], line 4\u001b[0m\n\u001b[0;32m      1\u001b[0m \u001b[38;5;28;01mimport\u001b[39;00m \u001b[38;5;21;01mrandom\u001b[39;00m\n\u001b[0;32m      2\u001b[0m \u001b[38;5;28;01mfrom\u001b[39;00m \u001b[38;5;21;01mipywidgets\u001b[39;00m \u001b[38;5;28;01mimport\u001b[39;00m interact, widgets\n\u001b[1;32m----> 4\u001b[0m \u001b[43mget_ipython\u001b[49m\u001b[43m(\u001b[49m\u001b[43m)\u001b[49m\u001b[38;5;241;43m.\u001b[39;49m\u001b[43mrun_line_magic\u001b[49m\u001b[43m(\u001b[49m\u001b[38;5;124;43m'\u001b[39;49m\u001b[38;5;124;43mmatplotlib\u001b[39;49m\u001b[38;5;124;43m'\u001b[39;49m\u001b[43m,\u001b[49m\u001b[43m \u001b[49m\u001b[38;5;124;43m'\u001b[39;49m\u001b[38;5;124;43monline\u001b[39;49m\u001b[38;5;124;43m'\u001b[39;49m\u001b[43m)\u001b[49m\n\u001b[0;32m      5\u001b[0m \u001b[38;5;28;01mfrom\u001b[39;00m \u001b[38;5;21;01mmatplotlib\u001b[39;00m \u001b[38;5;28;01mimport\u001b[39;00m pyplot\n\u001b[0;32m      8\u001b[0m \u001b[38;5;28;01mdef\u001b[39;00m \u001b[38;5;21mthrow_darts\u001b[39m(num_points):\n",
      "File \u001b[1;32mc:\\Users\\Николай\\AppData\\Local\\Programs\\Python\\Python312\\Lib\\site-packages\\IPython\\core\\interactiveshell.py:2480\u001b[0m, in \u001b[0;36mInteractiveShell.run_line_magic\u001b[1;34m(self, magic_name, line, _stack_depth)\u001b[0m\n\u001b[0;32m   2478\u001b[0m     kwargs[\u001b[38;5;124m'\u001b[39m\u001b[38;5;124mlocal_ns\u001b[39m\u001b[38;5;124m'\u001b[39m] \u001b[38;5;241m=\u001b[39m \u001b[38;5;28mself\u001b[39m\u001b[38;5;241m.\u001b[39mget_local_scope(stack_depth)\n\u001b[0;32m   2479\u001b[0m \u001b[38;5;28;01mwith\u001b[39;00m \u001b[38;5;28mself\u001b[39m\u001b[38;5;241m.\u001b[39mbuiltin_trap:\n\u001b[1;32m-> 2480\u001b[0m     result \u001b[38;5;241m=\u001b[39m \u001b[43mfn\u001b[49m\u001b[43m(\u001b[49m\u001b[38;5;241;43m*\u001b[39;49m\u001b[43margs\u001b[49m\u001b[43m,\u001b[49m\u001b[43m \u001b[49m\u001b[38;5;241;43m*\u001b[39;49m\u001b[38;5;241;43m*\u001b[39;49m\u001b[43mkwargs\u001b[49m\u001b[43m)\u001b[49m\n\u001b[0;32m   2482\u001b[0m \u001b[38;5;66;03m# The code below prevents the output from being displayed\u001b[39;00m\n\u001b[0;32m   2483\u001b[0m \u001b[38;5;66;03m# when using magics with decorator @output_can_be_silenced\u001b[39;00m\n\u001b[0;32m   2484\u001b[0m \u001b[38;5;66;03m# when the last Python token in the expression is a ';'.\u001b[39;00m\n\u001b[0;32m   2485\u001b[0m \u001b[38;5;28;01mif\u001b[39;00m \u001b[38;5;28mgetattr\u001b[39m(fn, magic\u001b[38;5;241m.\u001b[39mMAGIC_OUTPUT_CAN_BE_SILENCED, \u001b[38;5;28;01mFalse\u001b[39;00m):\n",
      "File \u001b[1;32mc:\\Users\\Николай\\AppData\\Local\\Programs\\Python\\Python312\\Lib\\site-packages\\IPython\\core\\magics\\pylab.py:103\u001b[0m, in \u001b[0;36mPylabMagics.matplotlib\u001b[1;34m(self, line)\u001b[0m\n\u001b[0;32m     98\u001b[0m     \u001b[38;5;28mprint\u001b[39m(\n\u001b[0;32m     99\u001b[0m         \u001b[38;5;124m\"\u001b[39m\u001b[38;5;124mAvailable matplotlib backends: \u001b[39m\u001b[38;5;132;01m%s\u001b[39;00m\u001b[38;5;124m\"\u001b[39m\n\u001b[0;32m    100\u001b[0m         \u001b[38;5;241m%\u001b[39m _list_matplotlib_backends_and_gui_loops()\n\u001b[0;32m    101\u001b[0m     )\n\u001b[0;32m    102\u001b[0m \u001b[38;5;28;01melse\u001b[39;00m:\n\u001b[1;32m--> 103\u001b[0m     gui, backend \u001b[38;5;241m=\u001b[39m \u001b[38;5;28;43mself\u001b[39;49m\u001b[38;5;241;43m.\u001b[39;49m\u001b[43mshell\u001b[49m\u001b[38;5;241;43m.\u001b[39;49m\u001b[43menable_matplotlib\u001b[49m\u001b[43m(\u001b[49m\u001b[43margs\u001b[49m\u001b[38;5;241;43m.\u001b[39;49m\u001b[43mgui\u001b[49m\u001b[43m)\u001b[49m\n\u001b[0;32m    104\u001b[0m     \u001b[38;5;28mself\u001b[39m\u001b[38;5;241m.\u001b[39m_show_matplotlib_backend(args\u001b[38;5;241m.\u001b[39mgui, backend)\n",
      "File \u001b[1;32mc:\\Users\\Николай\\AppData\\Local\\Programs\\Python\\Python312\\Lib\\site-packages\\IPython\\core\\interactiveshell.py:3665\u001b[0m, in \u001b[0;36mInteractiveShell.enable_matplotlib\u001b[1;34m(self, gui)\u001b[0m\n\u001b[0;32m   3662\u001b[0m     \u001b[38;5;28;01mimport\u001b[39;00m \u001b[38;5;21;01mmatplotlib_inline\u001b[39;00m\u001b[38;5;21;01m.\u001b[39;00m\u001b[38;5;21;01mbackend_inline\u001b[39;00m\n\u001b[0;32m   3664\u001b[0m \u001b[38;5;28;01mfrom\u001b[39;00m \u001b[38;5;21;01mIPython\u001b[39;00m\u001b[38;5;21;01m.\u001b[39;00m\u001b[38;5;21;01mcore\u001b[39;00m \u001b[38;5;28;01mimport\u001b[39;00m pylabtools \u001b[38;5;28;01mas\u001b[39;00m pt\n\u001b[1;32m-> 3665\u001b[0m gui, backend \u001b[38;5;241m=\u001b[39m \u001b[43mpt\u001b[49m\u001b[38;5;241;43m.\u001b[39;49m\u001b[43mfind_gui_and_backend\u001b[49m\u001b[43m(\u001b[49m\u001b[43mgui\u001b[49m\u001b[43m,\u001b[49m\u001b[43m \u001b[49m\u001b[38;5;28;43mself\u001b[39;49m\u001b[38;5;241;43m.\u001b[39;49m\u001b[43mpylab_gui_select\u001b[49m\u001b[43m)\u001b[49m\n\u001b[0;32m   3667\u001b[0m \u001b[38;5;28;01mif\u001b[39;00m gui \u001b[38;5;241m!=\u001b[39m \u001b[38;5;28;01mNone\u001b[39;00m:\n\u001b[0;32m   3668\u001b[0m     \u001b[38;5;66;03m# If we have our first gui selection, store it\u001b[39;00m\n\u001b[0;32m   3669\u001b[0m     \u001b[38;5;28;01mif\u001b[39;00m \u001b[38;5;28mself\u001b[39m\u001b[38;5;241m.\u001b[39mpylab_gui_select \u001b[38;5;129;01mis\u001b[39;00m \u001b[38;5;28;01mNone\u001b[39;00m:\n",
      "File \u001b[1;32mc:\\Users\\Николай\\AppData\\Local\\Programs\\Python\\Python312\\Lib\\site-packages\\IPython\\core\\pylabtools.py:349\u001b[0m, in \u001b[0;36mfind_gui_and_backend\u001b[1;34m(gui, gui_select)\u001b[0m\n\u001b[0;32m    347\u001b[0m \u001b[38;5;28;01melse\u001b[39;00m:\n\u001b[0;32m    348\u001b[0m     gui \u001b[38;5;241m=\u001b[39m _convert_gui_to_matplotlib(gui)\n\u001b[1;32m--> 349\u001b[0m     backend, gui \u001b[38;5;241m=\u001b[39m \u001b[43mbackend_registry\u001b[49m\u001b[38;5;241;43m.\u001b[39;49m\u001b[43mresolve_gui_or_backend\u001b[49m\u001b[43m(\u001b[49m\u001b[43mgui\u001b[49m\u001b[43m)\u001b[49m\n\u001b[0;32m    351\u001b[0m gui \u001b[38;5;241m=\u001b[39m _convert_gui_from_matplotlib(gui)\n\u001b[0;32m    352\u001b[0m \u001b[38;5;28;01mreturn\u001b[39;00m gui, backend\n",
      "File \u001b[1;32mc:\\Users\\Николай\\AppData\\Local\\Programs\\Python\\Python312\\Lib\\site-packages\\matplotlib\\backends\\registry.py:415\u001b[0m, in \u001b[0;36mBackendRegistry.resolve_gui_or_backend\u001b[1;34m(self, gui_or_backend)\u001b[0m\n\u001b[0;32m    413\u001b[0m     \u001b[38;5;28;01mreturn\u001b[39;00m \u001b[38;5;28mself\u001b[39m\u001b[38;5;241m.\u001b[39mresolve_backend(gui_or_backend)\n\u001b[0;32m    414\u001b[0m \u001b[38;5;28;01mexcept\u001b[39;00m \u001b[38;5;167;01mException\u001b[39;00m:  \u001b[38;5;66;03m# KeyError ?\u001b[39;00m\n\u001b[1;32m--> 415\u001b[0m     \u001b[38;5;28;01mraise\u001b[39;00m \u001b[38;5;167;01mRuntimeError\u001b[39;00m(\n\u001b[0;32m    416\u001b[0m         \u001b[38;5;124mf\u001b[39m\u001b[38;5;124m\"\u001b[39m\u001b[38;5;124m'\u001b[39m\u001b[38;5;132;01m{\u001b[39;00mgui_or_backend\u001b[38;5;132;01m}\u001b[39;00m\u001b[38;5;124m is not a recognised GUI loop or backend name\u001b[39m\u001b[38;5;124m\"\u001b[39m)\n",
      "\u001b[1;31mRuntimeError\u001b[0m: 'online is not a recognised GUI loop or backend name"
     ]
    }
   ],
   "source": [
    "import random\n",
    "from ipywidgets import interact, widgets\n",
    "\n",
    "%matplotlib online\n",
    "from matplotlib import pyplot\n",
    "\n",
    "\n",
    "def throw_darts(num_points):\n",
    "    points = []\n",
    "    hits = 0\n",
    "    for _ in range(num_points):\n",
    "        x, y = random.random(), random.random()\n",
    "        if x*x + y*y < 1.0:\n",
    "            hits += 1\n",
    "            points.append((x, y, True))\n",
    "        else:\n",
    "            points.append((x, y, False))\n",
    "    fraction = hits / num_points\n",
    "    pi = 4 * fraction\n",
    "    return pi, points\n",
    "\n",
    "\n",
    "def create_plot(points):\n",
    "    x, y, colors = zip(*points)\n",
    "    pyplot.scatter(x, y, c=colors)\n",
    "\n",
    "\n",
    "def experiment(num_points):\n",
    "    pi, points = throw_darts(num_points)\n",
    "    create_plot(points)\n",
    "    print(\"approximation:\", pi)\n",
    "\n"
   ]
  },
  {
   "cell_type": "code",
   "execution_count": 25,
   "metadata": {},
   "outputs": [
    {
     "ename": "NameError",
     "evalue": "name 'experiment' is not defined",
     "output_type": "error",
     "traceback": [
      "\u001b[1;31m---------------------------------------------------------------------------\u001b[0m",
      "\u001b[1;31mNameError\u001b[0m                                 Traceback (most recent call last)",
      "Cell \u001b[1;32mIn[25], line 1\u001b[0m\n\u001b[1;32m----> 1\u001b[0m interact(\u001b[43mexperiment\u001b[49m, num_points\u001b[38;5;241m=\u001b[39mwidgets\u001b[38;5;241m.\u001b[39mIntSlider(\u001b[38;5;28mmin\u001b[39m\u001b[38;5;241m=\u001b[39m\u001b[38;5;241m100\u001b[39m, \u001b[38;5;28mmax\u001b[39m\u001b[38;5;241m=\u001b[39m\u001b[38;5;241m10000\u001b[39m, step\u001b[38;5;241m=\u001b[39m\u001b[38;5;241m100\u001b[39m,\n\u001b[0;32m      2\u001b[0m value\u001b[38;5;241m=\u001b[39m\u001b[38;5;241m1000\u001b[39m))\n",
      "\u001b[1;31mNameError\u001b[0m: name 'experiment' is not defined"
     ]
    }
   ],
   "source": [
    "interact(experiment, num_points=widgets.IntSlider(min=100, max=10000, step=100,\n",
    "value=1000))"
   ]
  },
  {
   "cell_type": "markdown",
   "metadata": {},
   "source": []
  }
 ],
 "metadata": {
  "kernelspec": {
   "display_name": "Python 3",
   "language": "python",
   "name": "python3"
  },
  "language_info": {
   "codemirror_mode": {
    "name": "ipython",
    "version": 3
   },
   "file_extension": ".py",
   "mimetype": "text/x-python",
   "name": "python",
   "nbconvert_exporter": "python",
   "pygments_lexer": "ipython3",
   "version": "3.12.7"
  }
 },
 "nbformat": 4,
 "nbformat_minor": 2
}
